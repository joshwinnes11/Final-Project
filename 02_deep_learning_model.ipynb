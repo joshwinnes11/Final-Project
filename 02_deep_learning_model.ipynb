{
 "cells": [
  {
   "cell_type": "code",
   "execution_count": 3,
   "metadata": {},
   "outputs": [],
   "source": [
    "import tensorflow as tf \n",
    "from keras.models import Sequential\n",
    "from keras.layers import Conv2D, Dense, Flatten\n",
    "import tensorflow_io as tfio\n",
    "from matplotlib import pyplot as plt\n",
    "import os"
   ]
  },
  {
   "cell_type": "code",
   "execution_count": 6,
   "metadata": {},
   "outputs": [],
   "source": [
    "train_path_real = '/Users/joshwinnes/Library/Mobile Documents/com~apple~CloudDocs/life things/data science/data/for-2seconds/training/real/*.wav'\n",
    "train_path_fake = '/Users/joshwinnes/Library/Mobile Documents/com~apple~CloudDocs/life things/data science/data/for-2seconds/training/fake/*.wav'\n",
    "\n",
    "test_path_real = '/Users/joshwinnes/Library/Mobile Documents/com~apple~CloudDocs/life things/data science/data/for-2seconds/testing/real/'\n",
    "test_path_fake = '/Users/joshwinnes/Library/Mobile Documents/com~apple~CloudDocs/life things/data science/data/for-2seconds/testing/fake/'\n",
    "\n",
    "validation_path_real = '/Users/joshwinnes/Library/Mobile Documents/com~apple~CloudDocs/life things/data science/data/for-2seconds/validation/real/'\n",
    "validation_path_fake = '/Users/joshwinnes/Library/Mobile Documents/com~apple~CloudDocs/life things/data science/data/for-2seconds/validation/fake/'"
   ]
  },
  {
   "cell_type": "code",
   "execution_count": 7,
   "metadata": {},
   "outputs": [],
   "source": [
    "POS = train_path_real\n",
    "NEG = train_path_fake"
   ]
  },
  {
   "cell_type": "code",
   "execution_count": 8,
   "metadata": {},
   "outputs": [],
   "source": [
    "pos = tf.data.Dataset.list_files(POS)\n",
    "neg = tf.data.Dataset.list_files(NEG)\n",
    "\n",
    "positives = tf.data.Dataset.zip((pos, tf.data.Dataset.from_tensor_slices(tf.ones(len(pos)))))\n",
    "negatives = tf.data.Dataset.zip((neg, tf.data.Dataset.from_tensor_slices(tf.zeros(len(neg)))))"
   ]
  },
  {
   "cell_type": "code",
   "execution_count": 9,
   "metadata": {},
   "outputs": [],
   "source": [
    "def load_wav_16k_mono(filename):\n",
    "    # Load encoded wav file\n",
    "    file_contents = tf.io.read_file(filename)\n",
    "    # Decode wav (tensors by channels) \n",
    "    wav, sample_rate = tf.audio.decode_wav(file_contents, desired_channels=1)\n",
    "    # Removes trailing axis\n",
    "    wav = tf.squeeze(wav, axis=-1)\n",
    "    sample_rate = tf.cast(sample_rate, dtype=tf.int64)\n",
    "    # Goes from 44100Hz to 16000hz - amplitude of the audio signal\n",
    "    wav = tfio.audio.resample(wav, rate_in=sample_rate, rate_out=16000)\n",
    "    return wav"
   ]
  },
  {
   "cell_type": "code",
   "execution_count": 14,
   "metadata": {},
   "outputs": [
    {
     "ename": "NotADirectoryError",
     "evalue": "[Errno 20] Not a directory: b'/Users/joshwinnes/Library/Mobile Documents/com~apple~CloudDocs/life things/data science/data/for-2seconds/training/real/file26358.wav_16k.wav_norm.wav_mono.wav_silence.wav_2sec.wav'",
     "output_type": "error",
     "traceback": [
      "\u001b[0;31m---------------------------------------------------------------------------\u001b[0m",
      "\u001b[0;31mNotADirectoryError\u001b[0m                        Traceback (most recent call last)",
      "\u001b[1;32m/Users/joshwinnes/Library/Mobile Documents/com~apple~CloudDocs/Wheaton College/fall 2024/topics in data science/Math485/Final Project/02_deep_learning_model.ipynb Cell 6\u001b[0m line \u001b[0;36m1\n\u001b[1;32m     <a href='vscode-notebook-cell:/Users/joshwinnes/Library/Mobile%20Documents/com~apple~CloudDocs/Wheaton%20College/fall%202024/topics%20in%20data%20science/Math485/Final%20Project/02_deep_learning_model.ipynb#X12sZmlsZQ%3D%3D?line=11'>12</a>\u001b[0m         \u001b[39mreturn\u001b[39;00m spectrogram, label\n\u001b[1;32m     <a href='vscode-notebook-cell:/Users/joshwinnes/Library/Mobile%20Documents/com~apple~CloudDocs/Wheaton%20College/fall%202024/topics%20in%20data%20science/Math485/Final%20Project/02_deep_learning_model.ipynb#X12sZmlsZQ%3D%3D?line=13'>14</a>\u001b[0m filepath, label \u001b[39m=\u001b[39m positives\u001b[39m.\u001b[39mshuffle(buffer_size\u001b[39m=\u001b[39m\u001b[39m10000\u001b[39m)\u001b[39m.\u001b[39mas_numpy_iterator()\u001b[39m.\u001b[39mnext()\n\u001b[0;32m---> <a href='vscode-notebook-cell:/Users/joshwinnes/Library/Mobile%20Documents/com~apple~CloudDocs/Wheaton%20College/fall%202024/topics%20in%20data%20science/Math485/Final%20Project/02_deep_learning_model.ipynb#X12sZmlsZQ%3D%3D?line=15'>16</a>\u001b[0m spectrogram, label \u001b[39m=\u001b[39m preprocess(filepath, label)\n",
      "\u001b[1;32m/Users/joshwinnes/Library/Mobile Documents/com~apple~CloudDocs/Wheaton College/fall 2024/topics in data science/Math485/Final Project/02_deep_learning_model.ipynb Cell 6\u001b[0m line \u001b[0;36m2\n\u001b[1;32m      <a href='vscode-notebook-cell:/Users/joshwinnes/Library/Mobile%20Documents/com~apple~CloudDocs/Wheaton%20College/fall%202024/topics%20in%20data%20science/Math485/Final%20Project/02_deep_learning_model.ipynb#X12sZmlsZQ%3D%3D?line=0'>1</a>\u001b[0m \u001b[39mdef\u001b[39;00m \u001b[39mpreprocess\u001b[39m(file_path, label): \n\u001b[0;32m----> <a href='vscode-notebook-cell:/Users/joshwinnes/Library/Mobile%20Documents/com~apple~CloudDocs/Wheaton%20College/fall%202024/topics%20in%20data%20science/Math485/Final%20Project/02_deep_learning_model.ipynb#X12sZmlsZQ%3D%3D?line=1'>2</a>\u001b[0m     \u001b[39mfor\u001b[39;00m i \u001b[39min\u001b[39;00m os\u001b[39m.\u001b[39mlistdir(file_path):\n\u001b[1;32m      <a href='vscode-notebook-cell:/Users/joshwinnes/Library/Mobile%20Documents/com~apple~CloudDocs/Wheaton%20College/fall%202024/topics%20in%20data%20science/Math485/Final%20Project/02_deep_learning_model.ipynb#X12sZmlsZQ%3D%3D?line=2'>3</a>\u001b[0m         i \u001b[39m=\u001b[39m file_path\u001b[39m.\u001b[39mdecode() \u001b[39m+\u001b[39m \u001b[39m\"\u001b[39m\u001b[39m/\u001b[39m\u001b[39m\"\u001b[39m \u001b[39m+\u001b[39m i\u001b[39m.\u001b[39mdecode()\n\u001b[1;32m      <a href='vscode-notebook-cell:/Users/joshwinnes/Library/Mobile%20Documents/com~apple~CloudDocs/Wheaton%20College/fall%202024/topics%20in%20data%20science/Math485/Final%20Project/02_deep_learning_model.ipynb#X12sZmlsZQ%3D%3D?line=3'>4</a>\u001b[0m         wav \u001b[39m=\u001b[39m load_wav_16k_mono(i)\n",
      "\u001b[0;31mNotADirectoryError\u001b[0m: [Errno 20] Not a directory: b'/Users/joshwinnes/Library/Mobile Documents/com~apple~CloudDocs/life things/data science/data/for-2seconds/training/real/file26358.wav_16k.wav_norm.wav_mono.wav_silence.wav_2sec.wav'"
     ]
    }
   ],
   "source": [
    "def preprocess(file_path, label): \n",
    "    for i in os.listdir(file_path):\n",
    "        i = file_path.decode() + \"/\" + i.decode()\n",
    "        wav = load_wav_16k_mono(i)\n",
    "        wav = wav[:48000]\n",
    "        zero_padding = tf.zeros([48000] - tf.shape(wav), dtype=tf.float32)\n",
    "        wav = tf.concat([zero_padding, wav],0)\n",
    "        spectrogram = tf.signal.stft(wav, frame_length=320, frame_step=32)\n",
    "        spectrogram = tf.abs(spectrogram)\n",
    "\n",
    "        spectrogram = tf.expand_dims(spectrogram, axis=2)\n",
    "        return spectrogram, label\n",
    "\n",
    "filepath, label = positives.shuffle(buffer_size=10000).as_numpy_iterator().next()\n",
    "\n",
    "spectrogram, label = preprocess(filepath, label)"
   ]
  },
  {
   "cell_type": "code",
   "execution_count": null,
   "metadata": {},
   "outputs": [],
   "source": []
  }
 ],
 "metadata": {
  "kernelspec": {
   "display_name": "voice",
   "language": "python",
   "name": "python3"
  },
  "language_info": {
   "codemirror_mode": {
    "name": "ipython",
    "version": 3
   },
   "file_extension": ".py",
   "mimetype": "text/x-python",
   "name": "python",
   "nbconvert_exporter": "python",
   "pygments_lexer": "ipython3",
   "version": "3.12.2"
  },
  "orig_nbformat": 4
 },
 "nbformat": 4,
 "nbformat_minor": 2
}
